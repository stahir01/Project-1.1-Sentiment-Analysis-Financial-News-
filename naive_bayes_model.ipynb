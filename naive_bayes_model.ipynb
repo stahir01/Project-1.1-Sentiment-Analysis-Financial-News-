{
 "cells": [
  {
   "cell_type": "markdown",
   "source": [
    "## Naive Bayes Model"
   ],
   "metadata": {
    "collapsed": false
   }
  },
  {
   "cell_type": "markdown",
   "source": [
    "In the first step, we extract the data and apply different normalization steps to it. After this, we have 3 different arrays with the following attributes:\n",
    "\n",
    "- **norm_data**: lower case, number to word equivalent, remove punctuation, tokenized\n",
    "- **filtered**: removed common stop words from **norm_data**\n",
    "- **lem_data**: applied lemmatization to **filtered**"
   ],
   "metadata": {
    "collapsed": false
   }
  },
  {
   "cell_type": "code",
   "execution_count": 34,
   "outputs": [],
   "source": [
    "from utils import *\n",
    "\n",
    "raw_data, labels = extract_data('data/Sentences_50Agree.txt')\n",
    "norm_data = normalize_corpus(raw_data)\n",
    "filtered = remove_stopwords(norm_data)\n",
    "lem_data = lemmatize(filtered)"
   ],
   "metadata": {
    "collapsed": false
   }
  },
  {
   "cell_type": "markdown",
   "source": [
    "Now we define the Naive Bayes model. We can use this function to run multiple experiments with different data representations."
   ],
   "metadata": {
    "collapsed": false
   }
  },
  {
   "cell_type": "code",
   "execution_count": 40,
   "outputs": [],
   "source": [
    "from sklearn.model_selection import train_test_split\n",
    "from sklearn.feature_extraction.text import TfidfVectorizer, CountVectorizer\n",
    "from sklearn.naive_bayes import MultinomialNB\n",
    "from sklearn.metrics import accuracy_score\n",
    "\n",
    "def train_naive_bayes(data):\n",
    "    X_train, X_test, y_train, y_test = train_test_split(data, labels, test_size=0.2, random_state=48)\n",
    "\n",
    "    nb_model = MultinomialNB()\n",
    "    nb_model.fit(X_train, y_train)\n",
    "    y_pred = nb_model.predict(X_test)\n",
    "    accuracy = accuracy_score(y_test, y_pred)\n",
    "    return accuracy"
   ],
   "metadata": {
    "collapsed": false
   }
  },
  {
   "cell_type": "code",
   "execution_count": 41,
   "outputs": [],
   "source": [
    "# Convert tokenized sentences into strings\n",
    "sentence_strings = [' '.join(sentence) for sentence in lem_data]\n",
    "\n",
    "# Create an instance of TfidfVectorizer or CountVectorizer\n",
    "vectorizer = TfidfVectorizer()  # or CountVectorizer()\n",
    "\n",
    "# Fit and transform the sentences\n",
    "X = vectorizer.fit_transform(sentence_strings)\n",
    "\n",
    "acc = train_naive_bayes(X)"
   ],
   "metadata": {
    "collapsed": false
   }
  }
 ],
 "metadata": {
  "kernelspec": {
   "display_name": "Python 3",
   "language": "python",
   "name": "python3"
  },
  "language_info": {
   "codemirror_mode": {
    "name": "ipython",
    "version": 2
   },
   "file_extension": ".py",
   "mimetype": "text/x-python",
   "name": "python",
   "nbconvert_exporter": "python",
   "pygments_lexer": "ipython2",
   "version": "2.7.6"
  }
 },
 "nbformat": 4,
 "nbformat_minor": 0
}
